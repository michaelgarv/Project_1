{
 "cells": [
  {
   "cell_type": "code",
   "execution_count": 66,
   "id": "302f9807",
   "metadata": {},
   "outputs": [],
   "source": [
    "import matplotlib.pyplot as plt\n",
    "import pandas as pd\n",
    "import scipy.stats as st\n",
    "from scipy.stats import linregress\n",
    "\n",
    "batting_data_path = \"batting.csv\"\n",
    "batting_data = pd.read_csv(batting_data_path)\n",
    "#batting_data.count()"
   ]
  },
  {
   "cell_type": "code",
   "execution_count": 41,
   "id": "2a0ce4a8",
   "metadata": {},
   "outputs": [],
   "source": [
    "years_not_desired = batting_data.loc[batting_data['yearID'] < 2018]"
   ]
  },
  {
   "cell_type": "code",
   "execution_count": 86,
   "id": "9183e53c",
   "metadata": {},
   "outputs": [
    {
     "data": {
      "text/plain": [
       "Index(['playerID', 'yearID', 'stint', 'teamID', 'lgID', 'G', 'AB', 'R', 'H',\n",
       "       '2B', '3B', 'HR', 'RBI', 'SB', 'CS', 'BB', 'SO', 'IBB', 'HBP', 'SH',\n",
       "       'SF', 'GIDP', '_merge'],\n",
       "      dtype='object')"
      ]
     },
     "execution_count": 86,
     "metadata": {},
     "output_type": "execute_result"
    }
   ],
   "source": [
    "recent_batting_data = pd.merge(batting_data, years_not_desired, how = 'outer', indicator=True)\n",
    "recent_batting_data = recent_batting_data.loc[recent_batting_data._merge == 'left_only']\n",
    "recent_batting_data.columns"
   ]
  },
  {
   "cell_type": "code",
   "execution_count": 87,
   "id": "6b0c4f69",
   "metadata": {},
   "outputs": [],
   "source": [
    "recent_batting_data[\"Batting Average\"] = recent_batting_data['H']/recent_batting_data['AB']"
   ]
  },
  {
   "cell_type": "code",
   "execution_count": 88,
   "id": "0f8ff22e",
   "metadata": {},
   "outputs": [
    {
     "data": {
      "text/html": [
       "<div>\n",
       "<style scoped>\n",
       "    .dataframe tbody tr th:only-of-type {\n",
       "        vertical-align: middle;\n",
       "    }\n",
       "\n",
       "    .dataframe tbody tr th {\n",
       "        vertical-align: top;\n",
       "    }\n",
       "\n",
       "    .dataframe thead th {\n",
       "        text-align: right;\n",
       "    }\n",
       "</style>\n",
       "<table border=\"1\" class=\"dataframe\">\n",
       "  <thead>\n",
       "    <tr style=\"text-align: right;\">\n",
       "      <th></th>\n",
       "      <th>playerID</th>\n",
       "      <th>yearID</th>\n",
       "      <th>teamID</th>\n",
       "      <th>Batting Average</th>\n",
       "    </tr>\n",
       "  </thead>\n",
       "  <tbody>\n",
       "    <tr>\n",
       "      <th>104326</th>\n",
       "      <td>abreujo02</td>\n",
       "      <td>2018</td>\n",
       "      <td>CHA</td>\n",
       "      <td>0.264529</td>\n",
       "    </tr>\n",
       "    <tr>\n",
       "      <th>104327</th>\n",
       "      <td>acunaro01</td>\n",
       "      <td>2018</td>\n",
       "      <td>ATL</td>\n",
       "      <td>0.293303</td>\n",
       "    </tr>\n",
       "    <tr>\n",
       "      <th>104328</th>\n",
       "      <td>adamewi01</td>\n",
       "      <td>2018</td>\n",
       "      <td>TBA</td>\n",
       "      <td>0.277778</td>\n",
       "    </tr>\n",
       "    <tr>\n",
       "      <th>104329</th>\n",
       "      <td>adamja01</td>\n",
       "      <td>2018</td>\n",
       "      <td>KCA</td>\n",
       "      <td>NaN</td>\n",
       "    </tr>\n",
       "    <tr>\n",
       "      <th>104330</th>\n",
       "      <td>adamsau02</td>\n",
       "      <td>2018</td>\n",
       "      <td>WAS</td>\n",
       "      <td>NaN</td>\n",
       "    </tr>\n",
       "  </tbody>\n",
       "</table>\n",
       "</div>"
      ],
      "text/plain": [
       "         playerID  yearID teamID  Batting Average\n",
       "104326  abreujo02    2018    CHA         0.264529\n",
       "104327  acunaro01    2018    ATL         0.293303\n",
       "104328  adamewi01    2018    TBA         0.277778\n",
       "104329   adamja01    2018    KCA              NaN\n",
       "104330  adamsau02    2018    WAS              NaN"
      ]
     },
     "execution_count": 88,
     "metadata": {},
     "output_type": "execute_result"
    }
   ],
   "source": [
    "cleaned_batting_data = recent_batting_data.loc[:,['playerID', 'yearID', 'teamID', 'Batting Average']]\n",
    "cleaned_batting_data.head()"
   ]
  },
  {
   "cell_type": "code",
   "execution_count": 99,
   "id": "f2a31f22",
   "metadata": {},
   "outputs": [
    {
     "data": {
      "text/html": [
       "<div>\n",
       "<style scoped>\n",
       "    .dataframe tbody tr th:only-of-type {\n",
       "        vertical-align: middle;\n",
       "    }\n",
       "\n",
       "    .dataframe tbody tr th {\n",
       "        vertical-align: top;\n",
       "    }\n",
       "\n",
       "    .dataframe thead th {\n",
       "        text-align: right;\n",
       "    }\n",
       "</style>\n",
       "<table border=\"1\" class=\"dataframe\">\n",
       "  <thead>\n",
       "    <tr style=\"text-align: right;\">\n",
       "      <th></th>\n",
       "      <th>playerID</th>\n",
       "      <th>teamID</th>\n",
       "      <th>Batting Average</th>\n",
       "    </tr>\n",
       "    <tr>\n",
       "      <th>yearID</th>\n",
       "      <th></th>\n",
       "      <th></th>\n",
       "      <th></th>\n",
       "    </tr>\n",
       "  </thead>\n",
       "  <tbody>\n",
       "    <tr>\n",
       "      <th>2018</th>\n",
       "      <td>abreujo02</td>\n",
       "      <td>CHA</td>\n",
       "      <td>0.264529</td>\n",
       "    </tr>\n",
       "    <tr>\n",
       "      <th>2018</th>\n",
       "      <td>acunaro01</td>\n",
       "      <td>ATL</td>\n",
       "      <td>0.293303</td>\n",
       "    </tr>\n",
       "    <tr>\n",
       "      <th>2018</th>\n",
       "      <td>adamewi01</td>\n",
       "      <td>TBA</td>\n",
       "      <td>0.277778</td>\n",
       "    </tr>\n",
       "    <tr>\n",
       "      <th>2018</th>\n",
       "      <td>adamja01</td>\n",
       "      <td>KCA</td>\n",
       "      <td>0.000000</td>\n",
       "    </tr>\n",
       "    <tr>\n",
       "      <th>2018</th>\n",
       "      <td>adamsau02</td>\n",
       "      <td>WAS</td>\n",
       "      <td>0.000000</td>\n",
       "    </tr>\n",
       "  </tbody>\n",
       "</table>\n",
       "</div>"
      ],
      "text/plain": [
       "         playerID teamID  Batting Average\n",
       "yearID                                   \n",
       "2018    abreujo02    CHA         0.264529\n",
       "2018    acunaro01    ATL         0.293303\n",
       "2018    adamewi01    TBA         0.277778\n",
       "2018     adamja01    KCA         0.000000\n",
       "2018    adamsau02    WAS         0.000000"
      ]
     },
     "execution_count": 99,
     "metadata": {},
     "output_type": "execute_result"
    }
   ],
   "source": [
    "cleaned_batting_data[\"Batting Average\"] = cleaned_batting_data[\"Batting Average\"].fillna(0)\n",
    "cleaned_batting_data = cleaned_batting_data.set_index('yearID')\n",
    "cleaned_batting_data.head()"
   ]
  },
  {
   "cell_type": "code",
   "execution_count": 97,
   "id": "23c665fe",
   "metadata": {},
   "outputs": [
    {
     "ename": "AttributeError",
     "evalue": "'DataFrameGroupBy' object has no attribute 'set_index'",
     "output_type": "error",
     "traceback": [
      "\u001b[1;31m---------------------------------------------------------------------------\u001b[0m",
      "\u001b[1;31mAttributeError\u001b[0m                            Traceback (most recent call last)",
      "\u001b[1;32m~\\AppData\\Local\\Temp\\ipykernel_24828\\2837604970.py\u001b[0m in \u001b[0;36m<module>\u001b[1;34m\u001b[0m\n\u001b[0;32m      1\u001b[0m \u001b[0mcleaned_groupby\u001b[0m \u001b[1;33m=\u001b[0m \u001b[0mcleaned_batting_data\u001b[0m\u001b[1;33m.\u001b[0m\u001b[0mgroupby\u001b[0m\u001b[1;33m(\u001b[0m\u001b[1;33m[\u001b[0m\u001b[1;34m'yearID'\u001b[0m\u001b[1;33m,\u001b[0m \u001b[1;34m'teamID'\u001b[0m\u001b[1;33m]\u001b[0m\u001b[1;33m)\u001b[0m\u001b[1;33m\u001b[0m\u001b[1;33m\u001b[0m\u001b[0m\n\u001b[1;32m----> 2\u001b[1;33m \u001b[0mcleaned_groupby\u001b[0m\u001b[1;33m.\u001b[0m\u001b[0mset_index\u001b[0m\u001b[1;33m(\u001b[0m\u001b[1;34m'yearID'\u001b[0m\u001b[1;33m)\u001b[0m\u001b[1;33m\u001b[0m\u001b[1;33m\u001b[0m\u001b[0m\n\u001b[0m",
      "\u001b[1;32m~\\anaconda3\\lib\\site-packages\\pandas\\core\\groupby\\groupby.py\u001b[0m in \u001b[0;36m__getattr__\u001b[1;34m(self, attr)\u001b[0m\n\u001b[0;32m    902\u001b[0m             \u001b[1;32mreturn\u001b[0m \u001b[0mself\u001b[0m\u001b[1;33m[\u001b[0m\u001b[0mattr\u001b[0m\u001b[1;33m]\u001b[0m\u001b[1;33m\u001b[0m\u001b[1;33m\u001b[0m\u001b[0m\n\u001b[0;32m    903\u001b[0m \u001b[1;33m\u001b[0m\u001b[0m\n\u001b[1;32m--> 904\u001b[1;33m         raise AttributeError(\n\u001b[0m\u001b[0;32m    905\u001b[0m             \u001b[1;34mf\"'{type(self).__name__}' object has no attribute '{attr}'\"\u001b[0m\u001b[1;33m\u001b[0m\u001b[1;33m\u001b[0m\u001b[0m\n\u001b[0;32m    906\u001b[0m         )\n",
      "\u001b[1;31mAttributeError\u001b[0m: 'DataFrameGroupBy' object has no attribute 'set_index'"
     ]
    }
   ],
   "source": [
    "cleaned_groupby = cleaned_batting_data.groupby(['yearID', 'teamID'])\n",
    "cleaned_groupby.head()"
   ]
  },
  {
   "cell_type": "code",
   "execution_count": 78,
   "id": "83193595",
   "metadata": {},
   "outputs": [
    {
     "data": {
      "text/plain": [
       "pandas.core.frame.DataFrame"
      ]
     },
     "execution_count": 78,
     "metadata": {},
     "output_type": "execute_result"
    }
   ],
   "source": [
    "type(cleaned_batting_data)"
   ]
  },
  {
   "cell_type": "code",
   "execution_count": null,
   "id": "6a5aa569",
   "metadata": {},
   "outputs": [],
   "source": [
    "cleaned_batting_data.to_csv(\"batting_cleaned.csv\", sep=\",\")"
   ]
  }
 ],
 "metadata": {
  "kernelspec": {
   "display_name": "Python 3 (ipykernel)",
   "language": "python",
   "name": "python3"
  },
  "language_info": {
   "codemirror_mode": {
    "name": "ipython",
    "version": 3
   },
   "file_extension": ".py",
   "mimetype": "text/x-python",
   "name": "python",
   "nbconvert_exporter": "python",
   "pygments_lexer": "ipython3",
   "version": "3.9.13"
  }
 },
 "nbformat": 4,
 "nbformat_minor": 5
}
