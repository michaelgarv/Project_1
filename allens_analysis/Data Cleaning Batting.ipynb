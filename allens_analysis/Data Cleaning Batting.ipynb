{
 "cells": [
  {
   "cell_type": "code",
   "execution_count": 39,
   "id": "302f9807",
   "metadata": {},
   "outputs": [],
   "source": [
    "import matplotlib.pyplot as plt\n",
    "import pandas as pd\n",
    "import scipy.stats as st\n",
    "from scipy.stats import linregress\n",
    "\n",
    "batting_data_path = \"batting.csv\"\n",
    "batting_data = pd.read_csv(batting_data_path)\n",
    "#batting_data.count()"
   ]
  },
  {
   "cell_type": "code",
   "execution_count": 41,
   "id": "2a0ce4a8",
   "metadata": {},
   "outputs": [],
   "source": [
    "years_not_desired = batting_data.loc[batting_data['yearID'] < 2018]"
   ]
  },
  {
   "cell_type": "code",
   "execution_count": 47,
   "id": "6c19b80b",
   "metadata": {},
   "outputs": [
    {
     "data": {
      "text/plain": [
       "Index(['playerID', 'yearID', 'stint', 'teamID', 'lgID', 'G', 'AB', 'R', 'H',\n",
       "       '2B', '3B', 'HR', 'RBI', 'SB', 'CS', 'BB', 'SO', 'IBB', 'HBP', 'SH',\n",
       "       'SF', 'GIDP', '_merge'],\n",
       "      dtype='object')"
      ]
     },
     "execution_count": 47,
     "metadata": {},
     "output_type": "execute_result"
    }
   ],
   "source": [
    "recent_batting_data = pd.merge(batting_data, years_not_desired, how = 'outer', indicator=True)\n",
    "recent_batting_data = recent_batting_data.loc[recent_batting_data._merge == 'left_only']\n",
    "recent_batting_data.columns"
   ]
  },
  {
   "cell_type": "code",
   "execution_count": 51,
   "id": "1e538df1",
   "metadata": {},
   "outputs": [],
   "source": [
    "recent_batting_data[\"Batting Average\"] = recent_batting_data['H']/recent_batting_data['AB']"
   ]
  },
  {
   "cell_type": "code",
   "execution_count": 57,
   "id": "91901613",
   "metadata": {},
   "outputs": [
    {
     "data": {
      "text/html": [
       "<div>\n",
       "<style scoped>\n",
       "    .dataframe tbody tr th:only-of-type {\n",
       "        vertical-align: middle;\n",
       "    }\n",
       "\n",
       "    .dataframe tbody tr th {\n",
       "        vertical-align: top;\n",
       "    }\n",
       "\n",
       "    .dataframe thead th {\n",
       "        text-align: right;\n",
       "    }\n",
       "</style>\n",
       "<table border=\"1\" class=\"dataframe\">\n",
       "  <thead>\n",
       "    <tr style=\"text-align: right;\">\n",
       "      <th></th>\n",
       "      <th>playerID</th>\n",
       "      <th>yearID</th>\n",
       "      <th>teamID</th>\n",
       "      <th>Batting Average</th>\n",
       "    </tr>\n",
       "  </thead>\n",
       "  <tbody>\n",
       "    <tr>\n",
       "      <th>104326</th>\n",
       "      <td>abreujo02</td>\n",
       "      <td>2018</td>\n",
       "      <td>CHA</td>\n",
       "      <td>0.264529</td>\n",
       "    </tr>\n",
       "    <tr>\n",
       "      <th>104327</th>\n",
       "      <td>acunaro01</td>\n",
       "      <td>2018</td>\n",
       "      <td>ATL</td>\n",
       "      <td>0.293303</td>\n",
       "    </tr>\n",
       "    <tr>\n",
       "      <th>104328</th>\n",
       "      <td>adamewi01</td>\n",
       "      <td>2018</td>\n",
       "      <td>TBA</td>\n",
       "      <td>0.277778</td>\n",
       "    </tr>\n",
       "    <tr>\n",
       "      <th>104329</th>\n",
       "      <td>adamja01</td>\n",
       "      <td>2018</td>\n",
       "      <td>KCA</td>\n",
       "      <td>NaN</td>\n",
       "    </tr>\n",
       "    <tr>\n",
       "      <th>104330</th>\n",
       "      <td>adamsau02</td>\n",
       "      <td>2018</td>\n",
       "      <td>WAS</td>\n",
       "      <td>NaN</td>\n",
       "    </tr>\n",
       "  </tbody>\n",
       "</table>\n",
       "</div>"
      ],
      "text/plain": [
       "         playerID  yearID teamID  Batting Average\n",
       "104326  abreujo02    2018    CHA         0.264529\n",
       "104327  acunaro01    2018    ATL         0.293303\n",
       "104328  adamewi01    2018    TBA         0.277778\n",
       "104329   adamja01    2018    KCA              NaN\n",
       "104330  adamsau02    2018    WAS              NaN"
      ]
     },
     "execution_count": 57,
     "metadata": {},
     "output_type": "execute_result"
    }
   ],
   "source": [
    "cleaned_batting_data = recent_batting_data.loc[:,['playerID', 'yearID', 'teamID', 'Batting Average']]\n",
    "cleaned_batting_data.head()"
   ]
  },
  {
   "cell_type": "code",
   "execution_count": 58,
   "id": "6a1f6bab",
   "metadata": {},
   "outputs": [
    {
     "data": {
      "text/html": [
       "<div>\n",
       "<style scoped>\n",
       "    .dataframe tbody tr th:only-of-type {\n",
       "        vertical-align: middle;\n",
       "    }\n",
       "\n",
       "    .dataframe tbody tr th {\n",
       "        vertical-align: top;\n",
       "    }\n",
       "\n",
       "    .dataframe thead th {\n",
       "        text-align: right;\n",
       "    }\n",
       "</style>\n",
       "<table border=\"1\" class=\"dataframe\">\n",
       "  <thead>\n",
       "    <tr style=\"text-align: right;\">\n",
       "      <th></th>\n",
       "      <th>playerID</th>\n",
       "      <th>yearID</th>\n",
       "      <th>teamID</th>\n",
       "      <th>Batting Average</th>\n",
       "    </tr>\n",
       "  </thead>\n",
       "  <tbody>\n",
       "    <tr>\n",
       "      <th>104326</th>\n",
       "      <td>abreujo02</td>\n",
       "      <td>2018</td>\n",
       "      <td>CHA</td>\n",
       "      <td>0.264529</td>\n",
       "    </tr>\n",
       "    <tr>\n",
       "      <th>104327</th>\n",
       "      <td>acunaro01</td>\n",
       "      <td>2018</td>\n",
       "      <td>ATL</td>\n",
       "      <td>0.293303</td>\n",
       "    </tr>\n",
       "    <tr>\n",
       "      <th>104328</th>\n",
       "      <td>adamewi01</td>\n",
       "      <td>2018</td>\n",
       "      <td>TBA</td>\n",
       "      <td>0.277778</td>\n",
       "    </tr>\n",
       "    <tr>\n",
       "      <th>104329</th>\n",
       "      <td>adamja01</td>\n",
       "      <td>2018</td>\n",
       "      <td>KCA</td>\n",
       "      <td>0.000000</td>\n",
       "    </tr>\n",
       "    <tr>\n",
       "      <th>104330</th>\n",
       "      <td>adamsau02</td>\n",
       "      <td>2018</td>\n",
       "      <td>WAS</td>\n",
       "      <td>0.000000</td>\n",
       "    </tr>\n",
       "  </tbody>\n",
       "</table>\n",
       "</div>"
      ],
      "text/plain": [
       "         playerID  yearID teamID  Batting Average\n",
       "104326  abreujo02    2018    CHA         0.264529\n",
       "104327  acunaro01    2018    ATL         0.293303\n",
       "104328  adamewi01    2018    TBA         0.277778\n",
       "104329   adamja01    2018    KCA         0.000000\n",
       "104330  adamsau02    2018    WAS         0.000000"
      ]
     },
     "execution_count": 58,
     "metadata": {},
     "output_type": "execute_result"
    }
   ],
   "source": [
    "cleaned_batting_data[\"Batting Average\"] = cleaned_batting_data[\"Batting Average\"].fillna(0)\n",
    "cleaned_batting_data.head()"
   ]
  },
  {
   "cell_type": "code",
   "execution_count": 61,
   "id": "5a360a4b",
   "metadata": {},
   "outputs": [],
   "source": [
    "cleaned_batting_data.to_csv(\"batting_cleaned.csv\", sep=\",\")"
   ]
  },
  {
   "cell_type": "code",
   "execution_count": null,
   "id": "61b1783a",
   "metadata": {},
   "outputs": [],
   "source": []
  }
 ],
 "metadata": {
  "kernelspec": {
   "display_name": "Python 3 (ipykernel)",
   "language": "python",
   "name": "python3"
  },
  "language_info": {
   "codemirror_mode": {
    "name": "ipython",
    "version": 3
   },
   "file_extension": ".py",
   "mimetype": "text/x-python",
   "name": "python",
   "nbconvert_exporter": "python",
   "pygments_lexer": "ipython3",
   "version": "3.9.13"
  }
 },
 "nbformat": 4,
 "nbformat_minor": 5
}
